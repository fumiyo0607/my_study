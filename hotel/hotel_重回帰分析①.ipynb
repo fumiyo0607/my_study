{
 "cells": [
  {
   "cell_type": "code",
   "execution_count": 10,
   "metadata": {},
   "outputs": [],
   "source": [
    "import sys\n",
    "sys.path.append('/Users/fumiyo_ito/Documents/git/my_study/hotel')\n",
    "import functions\n",
    "import pandas as pd"
   ]
  },
  {
   "cell_type": "markdown",
   "metadata": {},
   "source": [
    "### モデル：重回帰分析①\n",
    "#### 'City', 'price.from', 'atmosphere', 'cleanliness', 'facilities', 'location.y', 'security', 'staff', 'valueformoney' を使用して予測"
   ]
  },
  {
   "cell_type": "code",
   "execution_count": 18,
   "metadata": {},
   "outputs": [],
   "source": [
    "df = pd.read_csv('Hostel.csv')"
   ]
  },
  {
   "cell_type": "code",
   "execution_count": 19,
   "metadata": {},
   "outputs": [],
   "source": [
    "# 欠損値を含む列を削除\n",
    "df = df.dropna()"
   ]
  },
  {
   "cell_type": "code",
   "execution_count": 20,
   "metadata": {},
   "outputs": [],
   "source": [
    "# 説明変数\n",
    "x = df[['City', 'price.from', 'atmosphere', 'cleanliness', 'facilities', 'location.y', 'security', 'staff', 'valueformoney']]\n",
    "x = pd.get_dummies(x)"
   ]
  },
  {
   "cell_type": "code",
   "execution_count": 21,
   "metadata": {},
   "outputs": [],
   "source": [
    "# 目的変数\n",
    "y = df['summary.score']"
   ]
  },
  {
   "cell_type": "code",
   "execution_count": 23,
   "metadata": {},
   "outputs": [],
   "source": [
    "# 重回帰分析\n",
    "result = functions.multiple_regression_analysis(x, y)"
   ]
  },
  {
   "cell_type": "code",
   "execution_count": 24,
   "metadata": {},
   "outputs": [
    {
     "data": {
      "text/html": [
       "<table class=\"simpletable\">\n",
       "<caption>OLS Regression Results</caption>\n",
       "<tr>\n",
       "  <th>Dep. Variable:</th>      <td>summary.score</td>  <th>  R-squared:         </th> <td>   0.999</td> \n",
       "</tr>\n",
       "<tr>\n",
       "  <th>Model:</th>                   <td>OLS</td>       <th>  Adj. R-squared:    </th> <td>   0.999</td> \n",
       "</tr>\n",
       "<tr>\n",
       "  <th>Method:</th>             <td>Least Squares</td>  <th>  F-statistic:       </th> <td>2.523e+04</td>\n",
       "</tr>\n",
       "<tr>\n",
       "  <th>Date:</th>             <td>Fri, 26 Jul 2019</td> <th>  Prob (F-statistic):</th>  <td>  0.00</td>  \n",
       "</tr>\n",
       "<tr>\n",
       "  <th>Time:</th>                 <td>17:55:36</td>     <th>  Log-Likelihood:    </th> <td>  645.11</td> \n",
       "</tr>\n",
       "<tr>\n",
       "  <th>No. Observations:</th>      <td>   298</td>      <th>  AIC:               </th> <td>  -1264.</td> \n",
       "</tr>\n",
       "<tr>\n",
       "  <th>Df Residuals:</th>          <td>   285</td>      <th>  BIC:               </th> <td>  -1216.</td> \n",
       "</tr>\n",
       "<tr>\n",
       "  <th>Df Model:</th>              <td>    12</td>      <th>                     </th>     <td> </td>    \n",
       "</tr>\n",
       "<tr>\n",
       "  <th>Covariance Type:</th>      <td>nonrobust</td>    <th>                     </th>     <td> </td>    \n",
       "</tr>\n",
       "</table>\n",
       "<table class=\"simpletable\">\n",
       "<tr>\n",
       "          <td></td>             <th>coef</th>     <th>std err</th>      <th>t</th>      <th>P>|t|</th>  <th>[0.025</th>    <th>0.975]</th>  \n",
       "</tr>\n",
       "<tr>\n",
       "  <th>const</th>             <td>   -0.0299</td> <td>    0.016</td> <td>   -1.849</td> <td> 0.065</td> <td>   -0.062</td> <td>    0.002</td>\n",
       "</tr>\n",
       "<tr>\n",
       "  <th>price.from</th>        <td> -3.34e-09</td> <td> 2.14e-08</td> <td>   -0.156</td> <td> 0.876</td> <td>-4.56e-08</td> <td> 3.89e-08</td>\n",
       "</tr>\n",
       "<tr>\n",
       "  <th>atmosphere</th>        <td>    0.1345</td> <td>    0.002</td> <td>   57.011</td> <td> 0.000</td> <td>    0.130</td> <td>    0.139</td>\n",
       "</tr>\n",
       "<tr>\n",
       "  <th>cleanliness</th>       <td>    0.1491</td> <td>    0.003</td> <td>   58.945</td> <td> 0.000</td> <td>    0.144</td> <td>    0.154</td>\n",
       "</tr>\n",
       "<tr>\n",
       "  <th>facilities</th>        <td>    0.1417</td> <td>    0.003</td> <td>   53.180</td> <td> 0.000</td> <td>    0.136</td> <td>    0.147</td>\n",
       "</tr>\n",
       "<tr>\n",
       "  <th>location.y</th>        <td>    0.1437</td> <td>    0.002</td> <td>   81.812</td> <td> 0.000</td> <td>    0.140</td> <td>    0.147</td>\n",
       "</tr>\n",
       "<tr>\n",
       "  <th>security</th>          <td>    0.1418</td> <td>    0.002</td> <td>   61.301</td> <td> 0.000</td> <td>    0.137</td> <td>    0.146</td>\n",
       "</tr>\n",
       "<tr>\n",
       "  <th>staff</th>             <td>    0.1462</td> <td>    0.003</td> <td>   56.805</td> <td> 0.000</td> <td>    0.141</td> <td>    0.151</td>\n",
       "</tr>\n",
       "<tr>\n",
       "  <th>valueformoney</th>     <td>    0.1464</td> <td>    0.003</td> <td>   46.394</td> <td> 0.000</td> <td>    0.140</td> <td>    0.153</td>\n",
       "</tr>\n",
       "<tr>\n",
       "  <th>City_Fukuoka-City</th> <td>   -0.0051</td> <td>    0.007</td> <td>   -0.691</td> <td> 0.490</td> <td>   -0.019</td> <td>    0.009</td>\n",
       "</tr>\n",
       "<tr>\n",
       "  <th>City_Hiroshima</th>    <td>   -0.0020</td> <td>    0.008</td> <td>   -0.252</td> <td> 0.801</td> <td>   -0.017</td> <td>    0.014</td>\n",
       "</tr>\n",
       "<tr>\n",
       "  <th>City_Kyoto</th>        <td>   -0.0099</td> <td>    0.005</td> <td>   -2.072</td> <td> 0.039</td> <td>   -0.019</td> <td>   -0.000</td>\n",
       "</tr>\n",
       "<tr>\n",
       "  <th>City_Osaka</th>        <td>   -0.0053</td> <td>    0.004</td> <td>   -1.279</td> <td> 0.202</td> <td>   -0.014</td> <td>    0.003</td>\n",
       "</tr>\n",
       "<tr>\n",
       "  <th>City_Tokyo</th>        <td>   -0.0076</td> <td>    0.004</td> <td>   -1.796</td> <td> 0.074</td> <td>   -0.016</td> <td>    0.001</td>\n",
       "</tr>\n",
       "</table>\n",
       "<table class=\"simpletable\">\n",
       "<tr>\n",
       "  <th>Omnibus:</th>       <td>20.473</td> <th>  Durbin-Watson:     </th> <td>   2.074</td>\n",
       "</tr>\n",
       "<tr>\n",
       "  <th>Prob(Omnibus):</th> <td> 0.000</td> <th>  Jarque-Bera (JB):  </th> <td>   7.843</td>\n",
       "</tr>\n",
       "<tr>\n",
       "  <th>Skew:</th>          <td> 0.068</td> <th>  Prob(JB):          </th> <td>  0.0198</td>\n",
       "</tr>\n",
       "<tr>\n",
       "  <th>Kurtosis:</th>      <td> 2.217</td> <th>  Cond. No.          </th> <td>1.06e+21</td>\n",
       "</tr>\n",
       "</table><br/><br/>Warnings:<br/>[1] Standard Errors assume that the covariance matrix of the errors is correctly specified.<br/>[2] The smallest eigenvalue is 1.8e-30. This might indicate that there are<br/>strong multicollinearity problems or that the design matrix is singular."
      ],
      "text/plain": [
       "<class 'statsmodels.iolib.summary.Summary'>\n",
       "\"\"\"\n",
       "                            OLS Regression Results                            \n",
       "==============================================================================\n",
       "Dep. Variable:          summary.score   R-squared:                       0.999\n",
       "Model:                            OLS   Adj. R-squared:                  0.999\n",
       "Method:                 Least Squares   F-statistic:                 2.523e+04\n",
       "Date:                Fri, 26 Jul 2019   Prob (F-statistic):               0.00\n",
       "Time:                        17:55:36   Log-Likelihood:                 645.11\n",
       "No. Observations:                 298   AIC:                            -1264.\n",
       "Df Residuals:                     285   BIC:                            -1216.\n",
       "Df Model:                          12                                         \n",
       "Covariance Type:            nonrobust                                         \n",
       "=====================================================================================\n",
       "                        coef    std err          t      P>|t|      [0.025      0.975]\n",
       "-------------------------------------------------------------------------------------\n",
       "const                -0.0299      0.016     -1.849      0.065      -0.062       0.002\n",
       "price.from         -3.34e-09   2.14e-08     -0.156      0.876   -4.56e-08    3.89e-08\n",
       "atmosphere            0.1345      0.002     57.011      0.000       0.130       0.139\n",
       "cleanliness           0.1491      0.003     58.945      0.000       0.144       0.154\n",
       "facilities            0.1417      0.003     53.180      0.000       0.136       0.147\n",
       "location.y            0.1437      0.002     81.812      0.000       0.140       0.147\n",
       "security              0.1418      0.002     61.301      0.000       0.137       0.146\n",
       "staff                 0.1462      0.003     56.805      0.000       0.141       0.151\n",
       "valueformoney         0.1464      0.003     46.394      0.000       0.140       0.153\n",
       "City_Fukuoka-City    -0.0051      0.007     -0.691      0.490      -0.019       0.009\n",
       "City_Hiroshima       -0.0020      0.008     -0.252      0.801      -0.017       0.014\n",
       "City_Kyoto           -0.0099      0.005     -2.072      0.039      -0.019      -0.000\n",
       "City_Osaka           -0.0053      0.004     -1.279      0.202      -0.014       0.003\n",
       "City_Tokyo           -0.0076      0.004     -1.796      0.074      -0.016       0.001\n",
       "==============================================================================\n",
       "Omnibus:                       20.473   Durbin-Watson:                   2.074\n",
       "Prob(Omnibus):                  0.000   Jarque-Bera (JB):                7.843\n",
       "Skew:                           0.068   Prob(JB):                       0.0198\n",
       "Kurtosis:                       2.217   Cond. No.                     1.06e+21\n",
       "==============================================================================\n",
       "\n",
       "Warnings:\n",
       "[1] Standard Errors assume that the covariance matrix of the errors is correctly specified.\n",
       "[2] The smallest eigenvalue is 1.8e-30. This might indicate that there are\n",
       "strong multicollinearity problems or that the design matrix is singular.\n",
       "\"\"\""
      ]
     },
     "execution_count": 24,
     "metadata": {},
     "output_type": "execute_result"
    }
   ],
   "source": [
    "# 結果を表示\n",
    "result.summary()"
   ]
  }
 ],
 "metadata": {
  "kernelspec": {
   "display_name": "Python 3",
   "language": "python",
   "name": "python3"
  },
  "language_info": {
   "codemirror_mode": {
    "name": "ipython",
    "version": 3
   },
   "file_extension": ".py",
   "mimetype": "text/x-python",
   "name": "python",
   "nbconvert_exporter": "python",
   "pygments_lexer": "ipython3",
   "version": "3.7.3"
  }
 },
 "nbformat": 4,
 "nbformat_minor": 2
}
